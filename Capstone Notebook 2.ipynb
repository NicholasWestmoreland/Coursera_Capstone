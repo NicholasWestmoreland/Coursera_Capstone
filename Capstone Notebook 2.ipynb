{
    "cells": [
        {
            "cell_type": "markdown",
            "metadata": {
                "collapsed": true
            },
            "source": "This is a notebook used for the IBM data science capstone project(mainly)\n"
        },
        {
            "cell_type": "code",
            "execution_count": null,
            "metadata": {},
            "outputs": [],
            "source": "\n\nimport pandas as pd\nimport numpy as np\nimport requests\nfrom geopy.geocoders import Nominatim\n!pip -q install folium \nimport folium # map rendering library\nfrom sklearn.cluster import KMeans\n\nprint('Hello Capstone Project Course!!!')\n\n"
        },
        {
            "cell_type": "markdown",
            "metadata": {},
            "source": "<h2>Part 1</h2>"
        },
        {
            "cell_type": "code",
            "execution_count": 1,
            "metadata": {},
            "outputs": [
                {
                    "data": {
                        "text/html": "<div>\n<style scoped>\n    .dataframe tbody tr th:only-of-type {\n        vertical-align: middle;\n    }\n\n    .dataframe tbody tr th {\n        vertical-align: top;\n    }\n\n    .dataframe thead th {\n        text-align: right;\n    }\n</style>\n<table border=\"1\" class=\"dataframe\">\n  <thead>\n    <tr style=\"text-align: right;\">\n      <th></th>\n      <th>PostalCode</th>\n      <th>Borough</th>\n      <th>Neighborhood</th>\n    </tr>\n  </thead>\n  <tbody>\n    <tr>\n      <th>0</th>\n      <td>M3A</td>\n      <td>North York</td>\n      <td>Parkwoods</td>\n    </tr>\n    <tr>\n      <th>1</th>\n      <td>M4A</td>\n      <td>North York</td>\n      <td>Victoria Village</td>\n    </tr>\n    <tr>\n      <th>2</th>\n      <td>M5A</td>\n      <td>Downtown Toronto</td>\n      <td>Regent Park, Harbourfront</td>\n    </tr>\n    <tr>\n      <th>3</th>\n      <td>M6A</td>\n      <td>North York</td>\n      <td>Lawrence Manor, Lawrence Heights</td>\n    </tr>\n    <tr>\n      <th>4</th>\n      <td>M7A</td>\n      <td>Downtown Toronto</td>\n      <td>Queen's Park, Ontario Provincial Government</td>\n    </tr>\n  </tbody>\n</table>\n</div>",
                        "text/plain": "  PostalCode            Borough                                  Neighborhood\n0       M3A         North York                                     Parkwoods \n1       M4A         North York                              Victoria Village \n2       M5A   Downtown Toronto                     Regent Park, Harbourfront \n3       M6A         North York              Lawrence Manor, Lawrence Heights \n4       M7A   Downtown Toronto   Queen's Park, Ontario Provincial Government "
                    },
                    "execution_count": 1,
                    "metadata": {},
                    "output_type": "execute_result"
                }
            ],
            "source": "# The code was removed by Watson Studio for sharing."
        },
        {
            "cell_type": "code",
            "execution_count": null,
            "metadata": {},
            "outputs": [],
            "source": "# check how many rows in dataframe\nneighborhoods.shape\n"
        },
        {
            "cell_type": "markdown",
            "metadata": {},
            "source": "<h2>Part 2<h2>"
        },
        {
            "cell_type": "code",
            "execution_count": null,
            "metadata": {},
            "outputs": [],
            "source": "# automatic methed for importing neighborhood coordinates csv file uploaded to project in watson studio\nbody = client_f07d8d66c8d4416bafe41a013ab8989e.get_object(Bucket='capstone-donotdelete-pr-jbvw9dheitluxh',Key='Geospatial_Coordinates.csv')['Body']\n# add missing __iter__ method, so pandas accepts body as file-like object\nif not hasattr(body, \"__iter__\"): body.__iter__ = types.MethodType( __iter__, body )\n\ncoordsTemp = pd.read_csv(body)\ncoordinates = coordsTemp.rename(columns={'Postal Code': 'PostalCode'}) \n\ncoordinates.head()\n"
        },
        {
            "cell_type": "code",
            "execution_count": null,
            "metadata": {},
            "outputs": [],
            "source": "# formatting postal code data\ncoordinates['PostalCode']=coordinates['PostalCode'].astype(str)\nneighborhoods['PostalCode']=neighborhoods['PostalCode'].astype(str)\ncoordinates.sort_values(by='PostalCode', ascending=True)\ncoordinates.head(5)\n"
        }
    ],
    "metadata": {
        "kernelspec": {
            "display_name": "Python 3.7",
            "language": "python",
            "name": "python3"
        },
        "language_info": {
            "codemirror_mode": {
                "name": "ipython",
                "version": 3
            },
            "file_extension": ".py",
            "mimetype": "text/x-python",
            "name": "python",
            "nbconvert_exporter": "python",
            "pygments_lexer": "ipython3",
            "version": "3.7.9"
        }
    },
    "nbformat": 4,
    "nbformat_minor": 1
}